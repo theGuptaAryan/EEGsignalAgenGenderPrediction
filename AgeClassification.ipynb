{
  "cells": [
    {
      "cell_type": "code",
      "source": [
        "# importing to allow to read files into google colab directly from drive!\n",
        "\n",
        "from google.colab import drive\n",
        "drive.mount('/content/drive')"
      ],
      "metadata": {
        "colab": {
          "base_uri": "https://localhost:8080/"
        },
        "id": "2IY5UILiJSIo",
        "outputId": "e5e99381-eec7-4f16-ebeb-10d630f342d5"
      },
      "id": "2IY5UILiJSIo",
      "execution_count": 2,
      "outputs": [
        {
          "output_type": "stream",
          "name": "stdout",
          "text": [
            "Drive already mounted at /content/drive; to attempt to forcibly remount, call drive.mount(\"/content/drive\", force_remount=True).\n"
          ]
        }
      ]
    },
    {
      "cell_type": "code",
      "execution_count": 3,
      "id": "51e16a89",
      "metadata": {
        "id": "51e16a89"
      },
      "outputs": [],
      "source": [
        "# importing necessary libs\n",
        "\n",
        "import pandas as pd\n",
        "import numpy as np\n",
        "import matplotlib.pyplot as plt\n",
        "import os\n",
        "import csv\n",
        "import itertools\n",
        "import keras\n",
        "# Setting seed for reproducibility\n",
        "np.random.seed(1234)  \n",
        "PYTHONHASHSEED = 0\n",
        "\n",
        "from sklearn import preprocessing\n",
        "from sklearn.metrics import confusion_matrix, recall_score, precision_score\n",
        "from keras.models import Sequential,load_model,model_from_json\n",
        "from keras.layers import Dense, Dropout, LSTM,BatchNormalization,TimeDistributed,Flatten,Bidirectional"
      ]
    },
    {
      "cell_type": "code",
      "execution_count": 4,
      "id": "40a38aeb",
      "metadata": {
        "colab": {
          "base_uri": "https://localhost:8080/"
        },
        "id": "40a38aeb",
        "outputId": "f83a4cb9-6df6-4b96-da54-9be3324d8a5f"
      },
      "outputs": [
        {
          "output_type": "execute_result",
          "data": {
            "text/plain": [
              "60"
            ]
          },
          "metadata": {},
          "execution_count": 4
        }
      ],
      "source": [
        "# the name of file names to read from txt files\n",
        "\n",
        "filename = ['L4_abhay_M_38_10.txt','L4_abhilash1_M_23_10.txt','L4_amrish_M_29_10.txt','L4_annu1_F_10_10.txt','L4_anuj1_M_13_10.txt','L4_avinash1_M_27_10.txt','L4_bhuvan1_M_13_10.txt','L4_chachiiiiiiiiiii1_F_35_10.txt','L4_champu_M_21_10.txt','L4_garima1_F_13_10.txt','L4_geetamami1_F_34_10.txt','L4_gordhan_M_45_10.txt','L4_Gunjan1_F_17_10.txt','L4_guzzrAunty1_F_48_10.txt','L4_joney1_M_31_10.txt','L4_kanchan1_F_12_10.txt','L4_kapil_M_21_10.txt','L4_kirti1_F_6_10.txt','L4_kusum1_F_48_10.txt','L4_lalit1_M_12_10.txt','L4_laras1_M_8_10.txt','L4_mahesh1_M_50_10.txt','L4_mannu1_M_13_10.txt','L4_manthan1_M_18_10.txt','L4_mohit1_M_10_10.txt','L4_monika1_F_24_10.txt','L4_moolchnd1_M_47_10.txt','L4_munish_M_42_10.txt','L4_nanaji1_M_63_10.txt','L4_naveen1_M_15_10.txt','L4_neeraj_M_28_10.txt','L4_nirmal_M_49_10.txt','L4_nishu1_M_12_10.txt','L4_omsingh_M_35_10.txt','L4_pawan1_M_23_10.txt','L4_prabhat1_M_25_10.txt','L4_prachi1_F_8_10.txt','L4_praveen1_M_28_10.txt','L4_priya1_F_7_10.txt','L4_pushpa1_F_37_10.txt','L4_radhe1_M_36_10.txt','L4_rajumama1_M_36_10.txt','L4_raj_M_28_10.txt','L4_ranu_M_22_10.txt','L4_rohit1_M_16_10.txt','L4_sachinn_M_38_10.txt','L4_sakshi1_F_19_10.txt','L4_santosh1_F_53_10.txt','L4_shelly_F_17_10.txt','L4_soniya1_F_25_10.txt','L4_sumit1_M_12_10.txt','L4_sunil_M_27_10.txt','L4_sunyana1_F_15_10.txt','L4_sushma1_F_18_10.txt','L4_swati1_F_13_10.txt','L4_tarun1_M_18_10.txt','L4_umesh1_M_20_10.txt','L4_vikas1_M_33_10.txt','L4_vinay1_M_11_10.txt','L4_yogesh_M_28_10.txt']\n",
        "len(filename)"
      ]
    },
    {
      "cell_type": "code",
      "execution_count": 55,
      "id": "cc27650d",
      "metadata": {
        "colab": {
          "base_uri": "https://localhost:8080/",
          "height": 496
        },
        "id": "cc27650d",
        "outputId": "9d89a7b2-32bf-4a85-b0f6-19126b279042"
      },
      "outputs": [
        {
          "output_type": "stream",
          "name": "stderr",
          "text": [
            "/usr/local/lib/python3.7/dist-packages/IPython/core/interactiveshell.py:2882: FutureWarning: In a future version of pandas all arguments of read_table except for the argument 'filepath_or_buffer' will be keyword-only\n",
            "  exec(code_obj, self.user_global_ns, self.user_ns)\n"
          ]
        },
        {
          "output_type": "stream",
          "name": "stdout",
          "text": [
            "(136212, 16)\n"
          ]
        },
        {
          "output_type": "execute_result",
          "data": {
            "text/plain": [
              "                    0            0            1            2            3  \\\n",
              "0        _abhay_M_38_  4248.205128  4221.025641  4236.923077  4240.512821   \n",
              "1        _abhay_M_38_  4241.025641  4212.820513  4227.692308  4229.230769   \n",
              "2        _abhay_M_38_  4235.384615  4207.692308  4226.666667  4236.923077   \n",
              "3        _abhay_M_38_  4234.871795  4211.282051  4225.128205  4243.589744   \n",
              "4        _abhay_M_38_  4229.743590  4207.179487  4217.435897  4227.692308   \n",
              "..                ...          ...          ...          ...          ...   \n",
              "219  _abhilash1_M_23_  4194.871795  4173.846154  4165.641026  4240.512821   \n",
              "220  _abhilash1_M_23_  4197.435897  4176.410256  4169.743590  4244.102564   \n",
              "221  _abhilash1_M_23_  4195.384615  4176.923077  4172.820513  4244.615385   \n",
              "222  _abhilash1_M_23_  4194.358974  4173.846154  4168.717949  4243.076923   \n",
              "223  _abhilash1_M_23_  4195.384615  4173.333333  4168.717949  4246.153846   \n",
              "\n",
              "               4            5            6            7            8  \\\n",
              "0    4228.205128  4215.384615  4226.666667  4244.102564  4233.846154   \n",
              "1    4225.641026  4216.923077  4222.051282  4245.641026  4230.769231   \n",
              "2    4227.692308  4222.051282  4221.025641  4236.923077  4234.871795   \n",
              "3    4228.717949  4230.769231  4224.615385  4232.307692  4241.025641   \n",
              "4    4224.615385  4235.897436  4227.692308  4237.948718  4237.435897   \n",
              "..           ...          ...          ...          ...          ...   \n",
              "219  4214.871795  4187.692308  4166.666667  4181.538462  4176.923077   \n",
              "220  4215.384615  4191.282051  4169.743590  4186.153846  4179.487179   \n",
              "221  4215.384615  4187.692308  4171.282051  4191.282051  4181.025641   \n",
              "222  4216.410256  4187.179487  4169.743590  4189.230769  4182.051282   \n",
              "223  4218.461538  4187.179487  4173.333333  4189.743590  4181.538462   \n",
              "\n",
              "               9           10           11           12           13  14  \n",
              "0    4233.333333  4229.743590  4215.897436  4237.948718  4221.538462   5  \n",
              "1    4231.282051  4218.974359  4207.179487  4236.410256  4212.307692   5  \n",
              "2    4228.717949  4222.051282  4199.487179  4224.102564  4210.769231   5  \n",
              "3    4231.794872  4224.615385  4196.923077  4217.948718  4214.358974   5  \n",
              "4    4231.794872  4213.333333  4195.384615  4217.948718  4204.102564   5  \n",
              "..           ...          ...          ...          ...          ...  ..  \n",
              "219  4218.974359  4215.384615  4202.564103  4187.692308  4168.717949   3  \n",
              "220  4219.487179  4215.384615  4202.051282  4190.769231  4175.384615   3  \n",
              "221  4218.974359  4213.846154  4204.615385  4192.307692  4181.538462   3  \n",
              "222  4219.487179  4215.384615  4201.538462  4190.769231  4174.871795   3  \n",
              "223  4219.487179  4217.435897  4197.435897  4191.794872  4173.846154   3  \n",
              "\n",
              "[500 rows x 16 columns]"
            ],
            "text/html": [
              "<div>\n",
              "<style scoped>\n",
              "    .dataframe tbody tr th:only-of-type {\n",
              "        vertical-align: middle;\n",
              "    }\n",
              "\n",
              "    .dataframe tbody tr th {\n",
              "        vertical-align: top;\n",
              "    }\n",
              "\n",
              "    .dataframe thead th {\n",
              "        text-align: right;\n",
              "    }\n",
              "</style>\n",
              "<table border=\"1\" class=\"dataframe\">\n",
              "  <thead>\n",
              "    <tr style=\"text-align: right;\">\n",
              "      <th></th>\n",
              "      <th>0</th>\n",
              "      <th>0</th>\n",
              "      <th>1</th>\n",
              "      <th>2</th>\n",
              "      <th>3</th>\n",
              "      <th>4</th>\n",
              "      <th>5</th>\n",
              "      <th>6</th>\n",
              "      <th>7</th>\n",
              "      <th>8</th>\n",
              "      <th>9</th>\n",
              "      <th>10</th>\n",
              "      <th>11</th>\n",
              "      <th>12</th>\n",
              "      <th>13</th>\n",
              "      <th>14</th>\n",
              "    </tr>\n",
              "  </thead>\n",
              "  <tbody>\n",
              "    <tr>\n",
              "      <th>0</th>\n",
              "      <td>_abhay_M_38_</td>\n",
              "      <td>4248.205128</td>\n",
              "      <td>4221.025641</td>\n",
              "      <td>4236.923077</td>\n",
              "      <td>4240.512821</td>\n",
              "      <td>4228.205128</td>\n",
              "      <td>4215.384615</td>\n",
              "      <td>4226.666667</td>\n",
              "      <td>4244.102564</td>\n",
              "      <td>4233.846154</td>\n",
              "      <td>4233.333333</td>\n",
              "      <td>4229.743590</td>\n",
              "      <td>4215.897436</td>\n",
              "      <td>4237.948718</td>\n",
              "      <td>4221.538462</td>\n",
              "      <td>5</td>\n",
              "    </tr>\n",
              "    <tr>\n",
              "      <th>1</th>\n",
              "      <td>_abhay_M_38_</td>\n",
              "      <td>4241.025641</td>\n",
              "      <td>4212.820513</td>\n",
              "      <td>4227.692308</td>\n",
              "      <td>4229.230769</td>\n",
              "      <td>4225.641026</td>\n",
              "      <td>4216.923077</td>\n",
              "      <td>4222.051282</td>\n",
              "      <td>4245.641026</td>\n",
              "      <td>4230.769231</td>\n",
              "      <td>4231.282051</td>\n",
              "      <td>4218.974359</td>\n",
              "      <td>4207.179487</td>\n",
              "      <td>4236.410256</td>\n",
              "      <td>4212.307692</td>\n",
              "      <td>5</td>\n",
              "    </tr>\n",
              "    <tr>\n",
              "      <th>2</th>\n",
              "      <td>_abhay_M_38_</td>\n",
              "      <td>4235.384615</td>\n",
              "      <td>4207.692308</td>\n",
              "      <td>4226.666667</td>\n",
              "      <td>4236.923077</td>\n",
              "      <td>4227.692308</td>\n",
              "      <td>4222.051282</td>\n",
              "      <td>4221.025641</td>\n",
              "      <td>4236.923077</td>\n",
              "      <td>4234.871795</td>\n",
              "      <td>4228.717949</td>\n",
              "      <td>4222.051282</td>\n",
              "      <td>4199.487179</td>\n",
              "      <td>4224.102564</td>\n",
              "      <td>4210.769231</td>\n",
              "      <td>5</td>\n",
              "    </tr>\n",
              "    <tr>\n",
              "      <th>3</th>\n",
              "      <td>_abhay_M_38_</td>\n",
              "      <td>4234.871795</td>\n",
              "      <td>4211.282051</td>\n",
              "      <td>4225.128205</td>\n",
              "      <td>4243.589744</td>\n",
              "      <td>4228.717949</td>\n",
              "      <td>4230.769231</td>\n",
              "      <td>4224.615385</td>\n",
              "      <td>4232.307692</td>\n",
              "      <td>4241.025641</td>\n",
              "      <td>4231.794872</td>\n",
              "      <td>4224.615385</td>\n",
              "      <td>4196.923077</td>\n",
              "      <td>4217.948718</td>\n",
              "      <td>4214.358974</td>\n",
              "      <td>5</td>\n",
              "    </tr>\n",
              "    <tr>\n",
              "      <th>4</th>\n",
              "      <td>_abhay_M_38_</td>\n",
              "      <td>4229.743590</td>\n",
              "      <td>4207.179487</td>\n",
              "      <td>4217.435897</td>\n",
              "      <td>4227.692308</td>\n",
              "      <td>4224.615385</td>\n",
              "      <td>4235.897436</td>\n",
              "      <td>4227.692308</td>\n",
              "      <td>4237.948718</td>\n",
              "      <td>4237.435897</td>\n",
              "      <td>4231.794872</td>\n",
              "      <td>4213.333333</td>\n",
              "      <td>4195.384615</td>\n",
              "      <td>4217.948718</td>\n",
              "      <td>4204.102564</td>\n",
              "      <td>5</td>\n",
              "    </tr>\n",
              "    <tr>\n",
              "      <th>...</th>\n",
              "      <td>...</td>\n",
              "      <td>...</td>\n",
              "      <td>...</td>\n",
              "      <td>...</td>\n",
              "      <td>...</td>\n",
              "      <td>...</td>\n",
              "      <td>...</td>\n",
              "      <td>...</td>\n",
              "      <td>...</td>\n",
              "      <td>...</td>\n",
              "      <td>...</td>\n",
              "      <td>...</td>\n",
              "      <td>...</td>\n",
              "      <td>...</td>\n",
              "      <td>...</td>\n",
              "      <td>...</td>\n",
              "    </tr>\n",
              "    <tr>\n",
              "      <th>219</th>\n",
              "      <td>_abhilash1_M_23_</td>\n",
              "      <td>4194.871795</td>\n",
              "      <td>4173.846154</td>\n",
              "      <td>4165.641026</td>\n",
              "      <td>4240.512821</td>\n",
              "      <td>4214.871795</td>\n",
              "      <td>4187.692308</td>\n",
              "      <td>4166.666667</td>\n",
              "      <td>4181.538462</td>\n",
              "      <td>4176.923077</td>\n",
              "      <td>4218.974359</td>\n",
              "      <td>4215.384615</td>\n",
              "      <td>4202.564103</td>\n",
              "      <td>4187.692308</td>\n",
              "      <td>4168.717949</td>\n",
              "      <td>3</td>\n",
              "    </tr>\n",
              "    <tr>\n",
              "      <th>220</th>\n",
              "      <td>_abhilash1_M_23_</td>\n",
              "      <td>4197.435897</td>\n",
              "      <td>4176.410256</td>\n",
              "      <td>4169.743590</td>\n",
              "      <td>4244.102564</td>\n",
              "      <td>4215.384615</td>\n",
              "      <td>4191.282051</td>\n",
              "      <td>4169.743590</td>\n",
              "      <td>4186.153846</td>\n",
              "      <td>4179.487179</td>\n",
              "      <td>4219.487179</td>\n",
              "      <td>4215.384615</td>\n",
              "      <td>4202.051282</td>\n",
              "      <td>4190.769231</td>\n",
              "      <td>4175.384615</td>\n",
              "      <td>3</td>\n",
              "    </tr>\n",
              "    <tr>\n",
              "      <th>221</th>\n",
              "      <td>_abhilash1_M_23_</td>\n",
              "      <td>4195.384615</td>\n",
              "      <td>4176.923077</td>\n",
              "      <td>4172.820513</td>\n",
              "      <td>4244.615385</td>\n",
              "      <td>4215.384615</td>\n",
              "      <td>4187.692308</td>\n",
              "      <td>4171.282051</td>\n",
              "      <td>4191.282051</td>\n",
              "      <td>4181.025641</td>\n",
              "      <td>4218.974359</td>\n",
              "      <td>4213.846154</td>\n",
              "      <td>4204.615385</td>\n",
              "      <td>4192.307692</td>\n",
              "      <td>4181.538462</td>\n",
              "      <td>3</td>\n",
              "    </tr>\n",
              "    <tr>\n",
              "      <th>222</th>\n",
              "      <td>_abhilash1_M_23_</td>\n",
              "      <td>4194.358974</td>\n",
              "      <td>4173.846154</td>\n",
              "      <td>4168.717949</td>\n",
              "      <td>4243.076923</td>\n",
              "      <td>4216.410256</td>\n",
              "      <td>4187.179487</td>\n",
              "      <td>4169.743590</td>\n",
              "      <td>4189.230769</td>\n",
              "      <td>4182.051282</td>\n",
              "      <td>4219.487179</td>\n",
              "      <td>4215.384615</td>\n",
              "      <td>4201.538462</td>\n",
              "      <td>4190.769231</td>\n",
              "      <td>4174.871795</td>\n",
              "      <td>3</td>\n",
              "    </tr>\n",
              "    <tr>\n",
              "      <th>223</th>\n",
              "      <td>_abhilash1_M_23_</td>\n",
              "      <td>4195.384615</td>\n",
              "      <td>4173.333333</td>\n",
              "      <td>4168.717949</td>\n",
              "      <td>4246.153846</td>\n",
              "      <td>4218.461538</td>\n",
              "      <td>4187.179487</td>\n",
              "      <td>4173.333333</td>\n",
              "      <td>4189.743590</td>\n",
              "      <td>4181.538462</td>\n",
              "      <td>4219.487179</td>\n",
              "      <td>4217.435897</td>\n",
              "      <td>4197.435897</td>\n",
              "      <td>4191.794872</td>\n",
              "      <td>4173.846154</td>\n",
              "      <td>3</td>\n",
              "    </tr>\n",
              "  </tbody>\n",
              "</table>\n",
              "<p>500 rows × 16 columns</p>\n",
              "</div>"
            ]
          },
          "metadata": {},
          "execution_count": 55
        }
      ],
      "source": [
        "FILE_PATH = '/content/drive/MyDrive/ell319_termpaper/Untitled Folder/'\n",
        "dataframes=pd.read_table(FILE_PATH+'L1_abhay_M_38_10.txt',' ',header=None)\n",
        "dataframes[14] = 5\n",
        "dataframes.insert(0,'0','_abhay_M_38_')\n",
        "for i in range(1,60):\n",
        "    for j in range(1,4):\n",
        "        for k in range(1,4):\n",
        "          # k =1\n",
        "\n",
        "          # finding the filename from the for loop variables and filename list:\n",
        "          f_ = filename[i]\n",
        "          fr = f_[2:]\n",
        "          ft = \"L\"+str(j)+fr\n",
        "          w_ = f_[::-1]\n",
        "          id = w_.find(\"_\")\n",
        "          idx = len(w_)-id\n",
        "          w__ = ft[:idx]\n",
        "          fn = w__+str(k)+\".txt\"\n",
        "          fn.strip()\n",
        "\n",
        "          # finding age from the txt file name\n",
        "          pos = fn.find('M')\n",
        "          if pos==-1:\n",
        "              pos = fn.find('F')\n",
        "          start_of_age = fn[(pos+2):]\n",
        "          x_ = start_of_age.find('_')\n",
        "          agestr = fn[(2+pos):(x_+pos+2)]\n",
        "          y = int(agestr)\n",
        "\n",
        "          df=pd.read_table(FILE_PATH+fn,' ',header=None)\n",
        "          df.insert(0,'0',wq[2:])\n",
        "          \n",
        "          # creating a new column to store the classes corresponding ages\n",
        "          if y<=10:\n",
        "              df[14]=1\n",
        "          elif y<=15:\n",
        "              df[14]=2\n",
        "          elif y<=23:\n",
        "              df[14]=3\n",
        "          elif y<=29:\n",
        "              df[14]=4\n",
        "          elif y<=38:\n",
        "              df[14]=5\n",
        "          else:\n",
        "              df[14]=6\n",
        "              \n",
        "          dataframes = dataframes.append(df)\n",
        "\n",
        "print(dataframes.shape)\n",
        "dataframes.head(500)"
      ]
    },
    {
      "cell_type": "code",
      "source": [
        "data=np.array(dataframes)"
      ],
      "metadata": {
        "id": "Lj2_DANuOMWK"
      },
      "id": "Lj2_DANuOMWK",
      "execution_count": 56,
      "outputs": []
    },
    {
      "cell_type": "code",
      "source": [
        "from sklearn.preprocessing import StandardScaler\n",
        "scl = StandardScaler()\n",
        "data[:,1:15] = scl.fit_transform(data[:,1:15])"
      ],
      "metadata": {
        "id": "n5yaYvCKORJl"
      },
      "id": "n5yaYvCKORJl",
      "execution_count": 57,
      "outputs": []
    },
    {
      "cell_type": "code",
      "execution_count": 8,
      "id": "e55c1641",
      "metadata": {
        "colab": {
          "base_uri": "https://localhost:8080/"
        },
        "id": "e55c1641",
        "outputId": "f7b74479-dde4-4f6f-d28f-83b0947a3144"
      },
      "outputs": [
        {
          "output_type": "stream",
          "name": "stdout",
          "text": [
            "(136212, 16)\n",
            "[['_abhay_M_38_' 0.26239730184778803 0.10804101042455384 ...\n",
            "  0.160991158200037 0.031379613085517656 5]\n",
            " ['_abhay_M_38_' 0.22210059674610677 0.05520276476158543 ...\n",
            "  0.15029397451338258 -0.021688683977527497 5]\n",
            " ['_abhay_M_38_' 0.19043889707411846 0.022178861222232366 ...\n",
            "  0.06471653283278804 -0.030533396321992107 5]\n",
            " ...\n",
            " ['_yogesh_M_28_' 0.11272382575582178 0.13776252682980278 ...\n",
            "  0.02905926546587469 0.004845464553995079 4]\n",
            " ['_yogesh_M_28_' 0.21346558570365132 0.17078643036915586 ...\n",
            "  0.0611508095726809 -0.0010510122586703237 4]\n",
            " ['_yogesh_M_28_' 0.1558988641298166 0.1113434039983215 ...\n",
            "  -0.0030322786409315177 -0.0010510122586703237 4]]\n"
          ]
        }
      ],
      "source": [
        "\n",
        "print(data.shape)\n",
        "print(data)"
      ]
    },
    {
      "cell_type": "code",
      "execution_count": 58,
      "id": "354d3d27",
      "metadata": {
        "id": "354d3d27"
      },
      "outputs": [],
      "source": [
        "# pick a large window size of 25 cycles\n",
        "sequence_length = 50\n",
        "\n",
        "# function to reshape features into (samples, time steps, features) \n",
        "def gen_sequence(id_df, seq_length, seq_cols):\n",
        "    \n",
        "    data_matrix = id_df[:,seq_cols]\n",
        "    \n",
        "    num_elements = data_matrix.shape[0]\n",
        "    for start, stop in zip(range(0, num_elements-seq_length), range(seq_length, num_elements)):\n",
        "        yield data_matrix[start:stop, :]"
      ]
    },
    {
      "cell_type": "code",
      "execution_count": 59,
      "id": "e1b7f79d",
      "metadata": {
        "colab": {
          "base_uri": "https://localhost:8080/"
        },
        "id": "e1b7f79d",
        "outputId": "6d2b26d6-d790-437e-b093-59d2ebe154ce"
      },
      "outputs": [
        {
          "output_type": "stream",
          "name": "stdout",
          "text": [
            "(133212, 50, 15)\n"
          ]
        },
        {
          "output_type": "execute_result",
          "data": {
            "text/plain": [
              "array([[[1.5759510778027923, 0.38388842420281394, 2.4315755366578333,\n",
              "         ..., 2.5353467151795237, 1.1202915243788478, 3],\n",
              "        [1.51306750493011, 0.15577647268677333, 2.332840485059468, ...,\n",
              "         2.3446991383526683, 0.9653554983448049, 3],\n",
              "        [1.4152486243918754, -0.10492289956662319, 2.175398107030713,\n",
              "         ..., 1.9252744569414941, 0.7800398599436974, 3],\n",
              "        ...,\n",
              "        [-2.8538469138107705, -10.291750876246002, -3.5592404223823504,\n",
              "         ..., -6.962080302763426, -5.095377319947221, 3],\n",
              "        [-2.920224007912667, -10.415583075047955, -3.6339588430428145,\n",
              "         ..., -6.974790147414595, -5.101453242420632, 3],\n",
              "        [-2.9272110708082533, -10.366701947119195, -3.593931117874837,\n",
              "         ..., -7.527668132604571, -4.919175562294221, 3]],\n",
              "\n",
              "       [[1.51306750493011, 0.15577647268677333, 2.332840485059468, ...,\n",
              "         2.3446991383526683, 0.9653554983448049, 3],\n",
              "        [1.4152486243918754, -0.10492289956662319, 2.175398107030713,\n",
              "         ..., 1.9252744569414941, 0.7800398599436974, 3],\n",
              "        [1.4606645366193893, 0.09386037010852302, 2.154049988328754,\n",
              "         ..., 1.906209699258811, 0.9987730749105898, 3],\n",
              "        ...,\n",
              "        [-2.920224007912667, -10.415583075047955, -3.6339588430428145,\n",
              "         ..., -6.974790147414595, -5.101453242420632, 3],\n",
              "        [-2.9272110708082533, -10.366701947119195, -3.593931117874837,\n",
              "         ..., -7.527668132604571, -4.919175562294221, 3],\n",
              "        [-2.892275756330312, -10.249387226110166, -3.567245969497387,\n",
              "         ..., -7.626169383729802, -4.700442353251355, 3]],\n",
              "\n",
              "       [[1.4152486243918754, -0.10492289956662319, 2.175398107030713,\n",
              "         ..., 1.9252744569414941, 0.7800398599436974, 3],\n",
              "        [1.4606645366193893, 0.09386037010852302, 2.154049988328754,\n",
              "         ..., 1.906209699258811, 0.9987730749105898, 3],\n",
              "        [1.6353411090090963, 0.7325738356243443, 2.2367739456970455,\n",
              "         ..., 2.0841474438265886, 1.4635811530127132, 3],\n",
              "        ...,\n",
              "        [-2.9272110708082533, -10.366701947119195, -3.593931117874837,\n",
              "         ..., -7.527668132604571, -4.919175562294221, 3],\n",
              "        [-2.892275756330312, -10.249387226110166, -3.567245969497387,\n",
              "         ..., -7.626169383729802, -4.700442353251355, 3],\n",
              "        [-2.7385603726273704, -9.845303202612405, -3.5192127024179767,\n",
              "         ..., -7.219454540773751, -4.387532336984552, 3]],\n",
              "\n",
              "       ...,\n",
              "\n",
              "       [[0.20648671620554931, 0.06127294937116713, -0.27429857646242334,\n",
              "         ..., 0.08234783138018312, 0.06915691278231083, 4],\n",
              "        [0.2938249989942116, 0.10363659950700621, -0.23427085129444836,\n",
              "         ..., 0.1236548094573554, 0.09042263847724649, 4],\n",
              "        [0.21347377910113885, 0.11993030669840658, -0.2396078809699345,\n",
              "         ..., 0.08234783138018312, 0.09042263847724649, 4],\n",
              "        ...,\n",
              "        [0.4405533266139494, 0.33174855102304684, 0.016569548657185965,\n",
              "         ..., 0.10141259525891488, 0.1724475948303324, 4],\n",
              "        [0.363695634762477, 0.2730911936958016, -0.010115599720263675,\n",
              "         ..., 0.06328307369749421, 0.14206798246326788, 4],\n",
              "        [0.45103392436352807, 0.35455974236191956, 0.013901031217637614,\n",
              "         ..., 0.12047735294159816, 0.1694096365556387, 4]],\n",
              "\n",
              "       [[0.2938249989942116, 0.10363659950700621, -0.23427085129444836,\n",
              "         ..., 0.1236548094573554, 0.09042263847724649, 4],\n",
              "        [0.21347377910113885, 0.11993030669840658, -0.2396078809699345,\n",
              "         ..., 0.08234783138018312, 0.09042263847724649, 4],\n",
              "        [0.2379284958295016, 0.20465760697008473, -0.2556189752000129,\n",
              "         ..., 0.10776751448647785, 0.10561244762278935, 4],\n",
              "        ...,\n",
              "        [0.363695634762477, 0.2730911936958016, -0.010115599720263675,\n",
              "         ..., 0.06328307369749421, 0.14206798246326788, 4],\n",
              "        [0.45103392436352807, 0.35455974236191956, 0.013901031217637614,\n",
              "         ..., 0.12047735294159816, 0.1694096365556387, 4],\n",
              "        [0.363695634762477, 0.3708534559078693, -0.028795206186279915,\n",
              "         ..., 0.06328307369749421, 0.10257448342406907, 4]],\n",
              "\n",
              "       [[0.21347377910113885, 0.11993030669840658, -0.2396078809699345,\n",
              "         ..., 0.08234783138018312, 0.09042263847724649, 4],\n",
              "        [0.2379284958295016, 0.20465760697008473, -0.2556189752000129,\n",
              "         ..., 0.10776751448647785, 0.10561244762278935, 4],\n",
              "        [0.19251259041437027, 0.1981401228226124, -0.2849726358134051,\n",
              "         ..., 0.09505766983530342, 0.07523283525572481, 4],\n",
              "        ...,\n",
              "        [0.45103392436352807, 0.35455974236191956, 0.013901031217637614,\n",
              "         ..., 0.12047735294159816, 0.1694096365556387, 4],\n",
              "        [0.363695634762477, 0.3708534559078693, -0.028795206186279915,\n",
              "         ..., 0.06328307369749421, 0.10257448342406907, 4],\n",
              "        [0.3532150370129045, 0.3415247740669749, -0.05014332488824341,\n",
              "         ..., 0.031508477559685, 0.04181525868994, 4]]], dtype=object)"
            ]
          },
          "metadata": {},
          "execution_count": 59
        }
      ],
      "source": [
        "sequence_cols = [1,2,3,4,5,6,7,8,9,10,11,12,13,14,15]\n",
        "\n",
        "seq_gen = (list(gen_sequence(data[data[0:,0]==id], sequence_length, sequence_cols)) \n",
        "          for id in np.unique(data[0:,0]))\n",
        "\n",
        "seq_array = np.concatenate(list(seq_gen))\n",
        "print(seq_array.shape)\n",
        "seq_array"
      ]
    },
    {
      "cell_type": "code",
      "source": [
        "from sklearn.utils import shuffle\n",
        "seq_array = shuffle(seq_array)"
      ],
      "metadata": {
        "id": "R1Bc3rHnEPPU"
      },
      "id": "R1Bc3rHnEPPU",
      "execution_count": 60,
      "outputs": []
    },
    {
      "cell_type": "code",
      "execution_count": 62,
      "id": "ceda5e73",
      "metadata": {
        "colab": {
          "base_uri": "https://localhost:8080/"
        },
        "id": "ceda5e73",
        "outputId": "2e4b2b17-34f2-4350-bf90-8dc40494e5ba"
      },
      "outputs": [
        {
          "output_type": "stream",
          "name": "stdout",
          "text": [
            "(110000, 50, 14)\n",
            "(110000, 1)\n",
            "(23212, 50, 14)\n",
            "(23212,)\n"
          ]
        }
      ],
      "source": [
        "train_final=seq_array[0:110000,:,0:14]\n",
        "test_final=seq_array[110000:,:,0:14]\n",
        "from sklearn import preprocessing\n",
        "train_label=seq_array[0:110000,0,14]\n",
        "test_label=seq_array[110000:,0,14]\n",
        "train_label=train_label.reshape((train_label.shape[0],1))\n",
        "train_label=train_label.astype('int')\n",
        "test_label=test_label.astype('int')\n",
        "print(train_final.shape)\n",
        "print(train_label.shape)\n",
        "print(test_final.shape)\n",
        "print(test_label.shape)"
      ]
    },
    {
      "cell_type": "code",
      "source": [
        "from sklearn.preprocessing import LabelEncoder\n",
        "encoder = LabelEncoder()\n",
        "encoder.fit(train_label)\n",
        "train_label = encoder.transform(train_label)\n",
        "test_label = encoder.transform(test_label)\n",
        "# convert integers to dummy variables (i.e. one hot encoded)"
      ],
      "metadata": {
        "colab": {
          "base_uri": "https://localhost:8080/"
        },
        "id": "Gwn1uPixYGxi",
        "outputId": "5bd55845-25d7-4118-bf0d-faa60404e12b"
      },
      "id": "Gwn1uPixYGxi",
      "execution_count": 63,
      "outputs": [
        {
          "output_type": "stream",
          "name": "stderr",
          "text": [
            "/usr/local/lib/python3.7/dist-packages/sklearn/preprocessing/_label.py:98: DataConversionWarning: A column-vector y was passed when a 1d array was expected. Please change the shape of y to (n_samples, ), for example using ravel().\n",
            "  y = column_or_1d(y, warn=True)\n",
            "/usr/local/lib/python3.7/dist-packages/sklearn/preprocessing/_label.py:133: DataConversionWarning: A column-vector y was passed when a 1d array was expected. Please change the shape of y to (n_samples, ), for example using ravel().\n",
            "  y = column_or_1d(y, warn=True)\n"
          ]
        }
      ]
    },
    {
      "cell_type": "code",
      "source": [
        "from keras.utils import np_utils\n",
        "\n",
        "train_label = np_utils.to_categorical(train_label)\n",
        "# test_label = np_utils.to_categorical(test_label)"
      ],
      "metadata": {
        "id": "evmVSdWaYvuz"
      },
      "id": "evmVSdWaYvuz",
      "execution_count": 64,
      "outputs": []
    },
    {
      "cell_type": "code",
      "source": [
        "print(train_final.shape)\n",
        "print(train_label.shape)\n",
        "print(test_final.shape)\n",
        "print(test_label.shape)\n",
        "print(train_label)\n",
        "print(np.unique(test_label))"
      ],
      "metadata": {
        "colab": {
          "base_uri": "https://localhost:8080/"
        },
        "id": "FGxibt8jY5BT",
        "outputId": "67816831-ca0d-474c-8dc2-75b284f019c0"
      },
      "id": "FGxibt8jY5BT",
      "execution_count": 65,
      "outputs": [
        {
          "output_type": "stream",
          "name": "stdout",
          "text": [
            "(110000, 50, 14)\n",
            "(110000, 6)\n",
            "(23212, 50, 14)\n",
            "(23212,)\n",
            "[[0. 0. 1. 0. 0. 0.]\n",
            " [0. 0. 0. 1. 0. 0.]\n",
            " [0. 0. 0. 1. 0. 0.]\n",
            " ...\n",
            " [0. 0. 0. 0. 0. 1.]\n",
            " [0. 0. 0. 1. 0. 0.]\n",
            " [1. 0. 0. 0. 0. 0.]]\n",
            "[0 1 2 3 4 5]\n"
          ]
        }
      ]
    },
    {
      "cell_type": "code",
      "execution_count": 66,
      "id": "0f50d2fc",
      "metadata": {
        "id": "0f50d2fc"
      },
      "outputs": [],
      "source": [
        "import tensorflow\n",
        "from tensorflow.keras.models import Sequential\n",
        "from tensorflow.keras.layers import Dense\n",
        "from tensorflow.keras.layers import LSTM"
      ]
    },
    {
      "cell_type": "code",
      "execution_count": 67,
      "id": "d8b7769b",
      "metadata": {
        "colab": {
          "base_uri": "https://localhost:8080/"
        },
        "id": "d8b7769b",
        "outputId": "95941b2b-0923-4b6b-b5fd-04cccca2bc98"
      },
      "outputs": [
        {
          "output_type": "stream",
          "name": "stdout",
          "text": [
            "Model: \"sequential_4\"\n",
            "_________________________________________________________________\n",
            " Layer (type)                Output Shape              Param #   \n",
            "=================================================================\n",
            " bidirectional_4 (Bidirectio  (None, 50, 512)          555008    \n",
            " nal)                                                            \n",
            "                                                                 \n",
            " dropout_4 (Dropout)         (None, 50, 512)           0         \n",
            "                                                                 \n",
            " batch_normalization_12 (Bat  (None, 50, 512)          2048      \n",
            " chNormalization)                                                \n",
            "                                                                 \n",
            " lstm_13 (LSTM)              (None, 50, 128)           328192    \n",
            "                                                                 \n",
            " batch_normalization_13 (Bat  (None, 50, 128)          512       \n",
            " chNormalization)                                                \n",
            "                                                                 \n",
            " lstm_14 (LSTM)              (None, 64)                49408     \n",
            "                                                                 \n",
            " batch_normalization_14 (Bat  (None, 64)               256       \n",
            " chNormalization)                                                \n",
            "                                                                 \n",
            " dense_8 (Dense)             (None, 32)                2080      \n",
            "                                                                 \n",
            " dense_9 (Dense)             (None, 6)                 198       \n",
            "                                                                 \n",
            "=================================================================\n",
            "Total params: 937,702\n",
            "Trainable params: 936,294\n",
            "Non-trainable params: 1,408\n",
            "_________________________________________________________________\n",
            "None\n"
          ]
        },
        {
          "output_type": "stream",
          "name": "stderr",
          "text": [
            "/usr/local/lib/python3.7/dist-packages/keras/optimizer_v2/adam.py:105: UserWarning: The `lr` argument is deprecated, use `learning_rate` instead.\n",
            "  super(Adam, self).__init__(name, **kwargs)\n"
          ]
        }
      ],
      "source": [
        "# creating our model:\n",
        "\n",
        "nb_features = train_final.shape[2]\n",
        "nb_out = train_label.shape[1]\n",
        "\n",
        "model = Sequential()\n",
        "\n",
        "model.add(Bidirectional(LSTM( units=256,\n",
        "         return_sequences=True),\n",
        "         input_shape=(sequence_length, nb_features),\n",
        "        ))\n",
        "model.add(Dropout(0.2))\n",
        "model.add(BatchNormalization())\n",
        "\n",
        "model.add(LSTM(\n",
        "         units=128,\n",
        "         return_sequences=True))\n",
        "\n",
        "model.add(BatchNormalization())\n",
        "model.add(LSTM(\n",
        "          units=64,\n",
        "          return_sequences=False))\n",
        "\n",
        "model.add(BatchNormalization())\n",
        "model.add(Dense(units=32))\n",
        "model.add(Dense(units=6, activation='softmax'))\n",
        "tensorflow.keras.optimizers.Adam(lr=0.001, beta_1=0.9, beta_2=0.999, epsilon=None, decay=0.0, amsgrad=False)\n",
        "model.compile(loss='categorical_crossentropy', optimizer='adam', metrics=['accuracy'])\n",
        "\n",
        "print(model.summary())"
      ]
    },
    {
      "cell_type": "code",
      "execution_count": 69,
      "id": "44cfd8ac",
      "metadata": {
        "colab": {
          "base_uri": "https://localhost:8080/"
        },
        "id": "44cfd8ac",
        "outputId": "809c80d2-93e1-496c-f06a-4bf3bfb53f05"
      },
      "outputs": [
        {
          "output_type": "stream",
          "name": "stdout",
          "text": [
            "Epoch 1/5\n",
            "2750/2750 [==============================] - 248s 90ms/step - loss: 0.9181 - accuracy: 0.6465 - val_loss: 0.6556 - val_accuracy: 0.7645\n",
            "Epoch 2/5\n",
            "2750/2750 [==============================] - 242s 88ms/step - loss: 0.3877 - accuracy: 0.8603 - val_loss: 0.1904 - val_accuracy: 0.9343\n",
            "Epoch 3/5\n",
            "2750/2750 [==============================] - 233s 85ms/step - loss: 0.1962 - accuracy: 0.9329 - val_loss: 0.0627 - val_accuracy: 0.9781\n",
            "Epoch 4/5\n",
            "2750/2750 [==============================] - 230s 84ms/step - loss: 0.1243 - accuracy: 0.9582 - val_loss: 0.0494 - val_accuracy: 0.9863\n",
            "Epoch 5/5\n",
            "2750/2750 [==============================] - 227s 82ms/step - loss: 0.0959 - accuracy: 0.9689 - val_loss: 0.0274 - val_accuracy: 0.9923\n"
          ]
        },
        {
          "output_type": "execute_result",
          "data": {
            "text/plain": [
              "<keras.callbacks.History at 0x7f153bb53150>"
            ]
          },
          "metadata": {},
          "execution_count": 69
        }
      ],
      "source": [
        "# fitting the model with training data\n",
        "\n",
        "train_final = np.asarray(train_final).astype(np.float32)\n",
        "test_final = np.asarray(test_final).astype(np.float32)\n",
        "model.fit(train_final,train_label,validation_split=0.2,epochs=5, batch_size=32,verbose=1)"
      ]
    },
    {
      "cell_type": "code",
      "source": [
        "# printing confusion matrix and calculating accuracy of our model\n",
        "\n",
        "test_final = np.asarray(test_final).astype(np.float32)\n",
        "y_pred_test = np.argmax(model.predict(test_final),axis=1)\n",
        "\n",
        "y_true_test = test_label\n",
        "\n",
        "cm_test = confusion_matrix(y_true_test, y_pred_test)\n",
        "print(cm_test)\n",
        "\n",
        "from sklearn.metrics import accuracy_score, precision_score, recall_score, f1_score\n",
        "print('\\nAccuracy: {:.2f}\\n'.format(accuracy_score(y_true_test, y_pred_test)))\n",
        "print('Micro Precision: {:.2f}'.format(precision_score(y_true_test, y_pred_test, average='micro')))\n",
        "print('Micro Recall: {:.2f}'.format(recall_score(y_true_test, y_pred_test, average='micro')))\n",
        "print('Micro F1-score: {:.2f}\\n'.format(f1_score(y_true_test, y_pred_test, average='micro')))"
      ],
      "metadata": {
        "colab": {
          "base_uri": "https://localhost:8080/"
        },
        "id": "dWDTP_yALgnR",
        "outputId": "e9b583ab-d67a-469c-d514-d5199cd68ecb"
      },
      "id": "dWDTP_yALgnR",
      "execution_count": 71,
      "outputs": [
        {
          "output_type": "stream",
          "name": "stdout",
          "text": [
            "[[2358    6    4    2    5    2]\n",
            " [   3 4682   28    3    7    5]\n",
            " [   0    0 5109    5    2    2]\n",
            " [   9    3   21 3862    2   25]\n",
            " [   0    1   14   10 3533    3]\n",
            " [   0    9    2    0    2 3493]]\n",
            "\n",
            "Accuracy: 0.99\n",
            "\n",
            "Micro Precision: 0.99\n",
            "Micro Recall: 0.99\n",
            "Micro F1-score: 0.99\n",
            "\n"
          ]
        }
      ]
    },
    {
      "cell_type": "code",
      "source": [
        "# defining function to plot confusion matrix plot as shown below\n",
        "def plot_confusion_matrix(cm, classes,\n",
        "                          normalize=False,\n",
        "                          title='Confusion matrix',\n",
        "                          cmap=plt.cm.Blues):\n",
        "    \"\"\"\n",
        "    This function prints and plots the confusion matrix.\n",
        "    Normalization can be applied by setting `normalize=True`.\n",
        "    \"\"\"\n",
        "    if normalize:\n",
        "        cm = cm.astype('float') / cm.sum(axis=1)[:, np.newaxis]\n",
        "        print(\"Normalized confusion matrix\")\n",
        "    else:\n",
        "        print('Confusion matrix, without normalization')\n",
        "\n",
        "    print(cm)\n",
        "    fig=plt.figure()\n",
        "    plt.imshow(cm, interpolation='nearest', cmap=cmap)\n",
        "    plt.title(title)\n",
        "    plt.colorbar()\n",
        "    tick_marks = np.arange(len(classes))\n",
        "    plt.xticks(tick_marks, classes, rotation=45)\n",
        "    plt.yticks(tick_marks, classes)\n",
        "\n",
        "    fmt = '.2f' if normalize else 'd'\n",
        "    thresh = cm.max() / 2.\n",
        "    for i, j in itertools.product(range(cm.shape[0]), range(cm.shape[1])):\n",
        "        plt.text(j, i, format(cm[i, j], fmt),\n",
        "                 horizontalalignment=\"center\",\n",
        "                 color=\"white\" if cm[i, j] > thresh else \"black\")\n",
        "\n",
        "    plt.tight_layout()\n",
        "    plt.ylabel('True label')\n",
        "    plt.xlabel('Predicted label')\n",
        "    fig.savefig('confusion_matrix_gender_alpha.png',bbox_inches='tight')"
      ],
      "metadata": {
        "id": "LBn5STaLLalh"
      },
      "id": "LBn5STaLLalh",
      "execution_count": 72,
      "outputs": []
    },
    {
      "cell_type": "code",
      "source": [
        "# Plot non-normalized confusion matrix\n",
        "class_names=['6-10','12-15','18-23','25-29','33-38','42-55']\n",
        "plt.figure()\n",
        "plot_confusion_matrix(cm_test, classes=class_names,\n",
        "                      title='Confusion matrix')\n",
        "plt.show()"
      ],
      "metadata": {
        "colab": {
          "base_uri": "https://localhost:8080/",
          "height": 450
        },
        "id": "JK-oGdGaLiy6",
        "outputId": "67cdac5d-5ac5-400e-d996-bca67ee0b548"
      },
      "id": "JK-oGdGaLiy6",
      "execution_count": 73,
      "outputs": [
        {
          "output_type": "stream",
          "name": "stdout",
          "text": [
            "Confusion matrix, without normalization\n",
            "[[2358    6    4    2    5    2]\n",
            " [   3 4682   28    3    7    5]\n",
            " [   0    0 5109    5    2    2]\n",
            " [   9    3   21 3862    2   25]\n",
            " [   0    1   14   10 3533    3]\n",
            " [   0    9    2    0    2 3493]]\n"
          ]
        },
        {
          "output_type": "display_data",
          "data": {
            "text/plain": [
              "<Figure size 432x288 with 0 Axes>"
            ]
          },
          "metadata": {}
        },
        {
          "output_type": "display_data",
          "data": {
            "text/plain": [
              "<Figure size 432x288 with 2 Axes>"
            ],
            "image/png": "[encoded data removed]"
          },
          "metadata": {
            "needs_background": "light"
          }
        }
      ]
    }
  ],
  "metadata": {
    "kernelspec": {
      "display_name": "Python 3",
      "language": "python",
      "name": "python3"
    },
    "language_info": {
      "codemirror_mode": {
        "name": "ipython",
        "version": 3
      },
      "file_extension": ".py",
      "mimetype": "text/x-python",
      "name": "python",
      "nbconvert_exporter": "python",
      "pygments_lexer": "ipython3",
      "version": "3.8.8"
    },
    "colab": {
      "name": "Untitled.ipynb",
      "provenance": [],
      "collapsed_sections": []
    },
    "accelerator": "GPU"
  },
  "nbformat": 4,
  "nbformat_minor": 5
}