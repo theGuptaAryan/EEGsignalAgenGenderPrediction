{
  "cells": [
    {
      "cell_type": "code",
      "execution_count": 37,
      "id": "51e16a89",
      "metadata": {
        "id": "51e16a89"
      },
      "outputs": [],
      "source": [
        "import pandas as pd\n",
        "import numpy as np\n",
        "import matplotlib.pyplot as plt\n",
        "import os\n",
        "import csv\n",
        "import itertools\n",
        "import keras\n",
        "# Setting seed for reproducibility\n",
        "np.random.seed(1234)  \n",
        "PYTHONHASHSEED = 0\n",
        "\n",
        "from sklearn import preprocessing\n",
        "from sklearn.metrics import confusion_matrix, recall_score, precision_score\n",
        "from keras.models import Sequential,load_model,model_from_json\n",
        "from keras.layers import Dense, Dropout, LSTM,BatchNormalization,TimeDistributed,Flatten,Bidirectional"
      ]
    },
    {
      "cell_type": "code",
      "execution_count": 38,
      "id": "cc27650d",
      "metadata": {
        "colab": {
          "base_uri": "https://localhost:8080/"
        },
        "id": "cc27650d",
        "outputId": "fb8ab84d-b6dd-441a-b581-dd167adf4225"
      },
      "outputs": [
        {
          "output_type": "execute_result",
          "data": {
            "text/plain": [
              "(632697, 16)"
            ]
          },
          "metadata": {},
          "execution_count": 38
        }
      ],
      "source": [
        "# reading data from csv file which has normalised data of the beta component of EEG signal\n",
        "\n",
        "df=pd.read_csv('all.csv',header=None)\n",
        "df.shape"
      ]
    },
    {
      "cell_type": "code",
      "execution_count": 43,
      "id": "e55c1641",
      "metadata": {
        "colab": {
          "base_uri": "https://localhost:8080/"
        },
        "id": "e55c1641",
        "outputId": "54b64da4-3929-403d-e21c-ab24c4f49002"
      },
      "outputs": [
        {
          "output_type": "stream",
          "name": "stdout",
          "text": [
            "(70000, 16)\n",
            "[['L1_abhay_M_38_1.txt' 2.3714 80.95 ... -10.859 -0.1315 'M']\n",
            " ['L1_abhay_M_38_1.txt' 2.5153 83.811 ... -11.373 -0.19861 'M']\n",
            " ['L1_abhay_M_38_1.txt' 2.6574 86.567 ... -11.861 -0.2631 'M']\n",
            " ...\n",
            " ['L1_munish_M_42_10.txt' -3.1626 -7.5331 ... 0.036486 63.253 'M']\n",
            " ['L1_munish_M_42_10.txt' -3.2704 -7.7803 ... 0.047732 63.985 'M']\n",
            " ['L1_munish_M_42_10.txt' -3.3569 -7.9815 ... 0.073157 64.693 'M']]\n"
          ]
        }
      ],
      "source": [
        "data=np.array(df)\n",
        "data = data[:70000,:]\n",
        "print(data.shape)\n",
        "print(data)"
      ]
    },
    {
      "cell_type": "code",
      "execution_count": 44,
      "id": "354d3d27",
      "metadata": {
        "id": "354d3d27"
      },
      "outputs": [],
      "source": [
        "# pick a large window size of 25 cycles\n",
        "sequence_length = 50\n",
        "\n",
        "# function to reshape features into (samples, time steps, features) \n",
        "def gen_sequence(id_df, seq_length, seq_cols):\n",
        "    \n",
        "    data_matrix = id_df[:,seq_cols]\n",
        "    \n",
        "    num_elements = data_matrix.shape[0]\n",
        "    for start, stop in zip(range(0, num_elements-seq_length), range(seq_length, num_elements)):\n",
        "        yield data_matrix[start:stop, :]"
      ]
    },
    {
      "cell_type": "code",
      "execution_count": 45,
      "id": "e1b7f79d",
      "metadata": {
        "colab": {
          "base_uri": "https://localhost:8080/"
        },
        "id": "e1b7f79d",
        "outputId": "8220d621-6e53-40a6-e4c6-634b50c2a1fa"
      },
      "outputs": [
        {
          "output_type": "stream",
          "name": "stdout",
          "text": [
            "(56400, 50, 15)\n"
          ]
        },
        {
          "output_type": "execute_result",
          "data": {
            "text/plain": [
              "array([[[242.96, 615.14, 410.71, ..., 572.63, 418.78, 'F'],\n",
              "        [253.1, 638.1, 428.09, ..., 593.28, 432.79, 'F'],\n",
              "        [261.8, 657.5, 443.29, ..., 610.52, 444.24, 'F'],\n",
              "        ...,\n",
              "        [-82.405, -208.42, -146.71, ..., -252.05, -179.68, 'F'],\n",
              "        [-87.993, -218.82, -161.76, ..., -260.44, -182.45, 'F'],\n",
              "        [-93.691, -229.43, -176.99, ..., -268.81, -185.19, 'F']],\n",
              "\n",
              "       [[253.1, 638.1, 428.09, ..., 593.28, 432.79, 'F'],\n",
              "        [261.8, 657.5, 443.29, ..., 610.52, 444.24, 'F'],\n",
              "        [268.98, 673.14, 456.19, ..., 624.14, 452.98, 'F'],\n",
              "        ...,\n",
              "        [-87.993, -218.82, -161.76, ..., -260.44, -182.45, 'F'],\n",
              "        [-93.691, -229.43, -176.99, ..., -268.81, -185.19, 'F'],\n",
              "        [-99.406, -240.04, -192.22, ..., -276.96, -187.78, 'F']],\n",
              "\n",
              "       [[261.8, 657.5, 443.29, ..., 610.52, 444.24, 'F'],\n",
              "        [268.98, 673.14, 456.19, ..., 624.14, 452.98, 'F'],\n",
              "        [274.59, 684.92, 466.71, ..., 634.07, 458.96, 'F'],\n",
              "        ...,\n",
              "        [-93.691, -229.43, -176.99, ..., -268.81, -185.19, 'F'],\n",
              "        [-99.406, -240.04, -192.22, ..., -276.96, -187.78, 'F'],\n",
              "        [-105.17, -250.73, -207.46, ..., -284.96, -190.3, 'F']],\n",
              "\n",
              "       ...,\n",
              "\n",
              "       [[0.21066, 2.6183, -1.8861, ..., -5.3543, -143.47, 'M'],\n",
              "        [0.37725, 2.8775, -1.6921, ..., -5.1066, -139.38, 'M'],\n",
              "        [0.54571, 3.1329, -1.4881, ..., -4.8386, -134.78, 'M'],\n",
              "        ...,\n",
              "        [-2.7284, -6.5503, -1.9357, ..., 0.074065, 60.755, 'M'],\n",
              "        [-2.8912, -6.9156, -2.0345, ..., 0.048619, 61.622, 'M'],\n",
              "        [-3.0361, -7.2442, -2.1197, ..., 0.036309, 62.457, 'M']],\n",
              "\n",
              "       [[0.37725, 2.8775, -1.6921, ..., -5.1066, -139.38, 'M'],\n",
              "        [0.54571, 3.1329, -1.4881, ..., -4.8386, -134.78, 'M'],\n",
              "        [0.71078, 3.3775, -1.2829, ..., -4.5585, -129.76, 'M'],\n",
              "        ...,\n",
              "        [-2.8912, -6.9156, -2.0345, ..., 0.048619, 61.622, 'M'],\n",
              "        [-3.0361, -7.2442, -2.1197, ..., 0.036309, 62.457, 'M'],\n",
              "        [-3.1626, -7.5331, -2.1927, ..., 0.036486, 63.253, 'M']],\n",
              "\n",
              "       [[0.54571, 3.1329, -1.4881, ..., -4.8386, -134.78, 'M'],\n",
              "        [0.71078, 3.3775, -1.2829, ..., -4.5585, -129.76, 'M'],\n",
              "        [0.87046, 3.6086, -1.0795, ..., -4.2698, -124.36, 'M'],\n",
              "        ...,\n",
              "        [-3.0361, -7.2442, -2.1197, ..., 0.036309, 62.457, 'M'],\n",
              "        [-3.1626, -7.5331, -2.1927, ..., 0.036486, 63.253, 'M'],\n",
              "        [-3.2704, -7.7803, -2.2556, ..., 0.047732, 63.985, 'M']]],\n",
              "      dtype=object)"
            ]
          },
          "metadata": {},
          "execution_count": 45
        }
      ],
      "source": [
        "# converting input data to a 50*14 column batch with 1 label defined for each id\n",
        "\n",
        "sequence_cols = [1,2,3,4,5,6,7,8,9,10,11,12,13,14,15]\n",
        "\n",
        "seq_gen = (list(gen_sequence(data[data[0:,0]==id], sequence_length, sequence_cols)) \n",
        "          for id in np.unique(data[0:,0]))\n",
        "\n",
        "seq_array = np.concatenate(list(seq_gen))\n",
        "print(seq_array.shape)\n",
        "seq_array"
      ]
    },
    {
      "cell_type": "code",
      "source": [
        "# shuffling seq_array for better model prediction\n",
        "from sklearn.utils import shuffle\n",
        "seq_array = shuffle(seq_array)"
      ],
      "metadata": {
        "id": "R1Bc3rHnEPPU"
      },
      "id": "R1Bc3rHnEPPU",
      "execution_count": 46,
      "outputs": []
    },
    {
      "cell_type": "code",
      "execution_count": 48,
      "id": "ceda5e73",
      "metadata": {
        "colab": {
          "base_uri": "https://localhost:8080/"
        },
        "id": "ceda5e73",
        "outputId": "bed6850d-6e4b-436a-f75e-a754d1b0de18"
      },
      "outputs": [
        {
          "output_type": "stream",
          "name": "stdout",
          "text": [
            "(45000, 50, 14)\n",
            "(45000, 1)\n",
            "(11400, 50, 14)\n",
            "(11400, 1)\n"
          ]
        }
      ],
      "source": [
        "train_final=seq_array[0:45000,:,0:14]\n",
        "test_final=seq_array[45000:,:,0:14]\n",
        "from sklearn import preprocessing\n",
        "train_label=seq_array[0:45000,0,14]\n",
        "test_label=seq_array[45000:,0,14]\n",
        "lb = preprocessing.LabelBinarizer()\n",
        "train_label=lb.fit_transform(train_label)\n",
        "test_label=lb.fit_transform(test_label)\n",
        "train_label=train_label.reshape((train_label.shape[0],1))\n",
        "train_label=train_label.astype('int')\n",
        "test_label=test_label.astype('int')\n",
        "print(train_final.shape)\n",
        "print(train_label.shape)\n",
        "print(test_final.shape)\n",
        "print(test_label.shape)\n"
      ]
    },
    {
      "cell_type": "code",
      "execution_count": 49,
      "id": "0f50d2fc",
      "metadata": {
        "id": "0f50d2fc"
      },
      "outputs": [],
      "source": [
        "import tensorflow\n",
        "from tensorflow.keras.models import Sequential\n",
        "from tensorflow.keras.layers import Dense\n",
        "from tensorflow.keras.layers import LSTM"
      ]
    },
    {
      "cell_type": "code",
      "execution_count": 51,
      "id": "d8b7769b",
      "metadata": {
        "colab": {
          "base_uri": "https://localhost:8080/"
        },
        "id": "d8b7769b",
        "outputId": "8d3ad460-c6fe-42c5-f1c7-c1ed98997f61"
      },
      "outputs": [
        {
          "output_type": "stream",
          "name": "stdout",
          "text": [
            "Model: \"sequential_4\"\n",
            "_________________________________________________________________\n",
            " Layer (type)                Output Shape              Param #   \n",
            "=================================================================\n",
            " bidirectional_4 (Bidirectio  (None, 50, 1024)         2158592   \n",
            " nal)                                                            \n",
            "                                                                 \n",
            " dropout_4 (Dropout)         (None, 50, 1024)          0         \n",
            "                                                                 \n",
            " batch_normalization_14 (Bat  (None, 50, 1024)         4096      \n",
            " chNormalization)                                                \n",
            "                                                                 \n",
            " lstm_15 (LSTM)              (None, 50, 256)           1311744   \n",
            "                                                                 \n",
            " batch_normalization_15 (Bat  (None, 50, 256)          1024      \n",
            " chNormalization)                                                \n",
            "                                                                 \n",
            " lstm_16 (LSTM)              (None, 50, 128)           197120    \n",
            "                                                                 \n",
            " batch_normalization_16 (Bat  (None, 50, 128)          512       \n",
            " chNormalization)                                                \n",
            "                                                                 \n",
            " lstm_17 (LSTM)              (None, 64)                49408     \n",
            "                                                                 \n",
            " batch_normalization_17 (Bat  (None, 64)               256       \n",
            " chNormalization)                                                \n",
            "                                                                 \n",
            " dense_8 (Dense)             (None, 32)                2080      \n",
            "                                                                 \n",
            " dense_9 (Dense)             (None, 1)                 33        \n",
            "                                                                 \n",
            "=================================================================\n",
            "Total params: 3,724,865\n",
            "Trainable params: 3,721,921\n",
            "Non-trainable params: 2,944\n",
            "_________________________________________________________________\n",
            "None\n"
          ]
        },
        {
          "output_type": "stream",
          "name": "stderr",
          "text": [
            "/usr/local/lib/python3.7/dist-packages/keras/optimizer_v2/adam.py:105: UserWarning: The `lr` argument is deprecated, use `learning_rate` instead.\n",
            "  super(Adam, self).__init__(name, **kwargs)\n"
          ]
        }
      ],
      "source": [
        "# building our model\n",
        "\n",
        "nb_features = train_final.shape[2]\n",
        "nb_out = train_label.shape[1]\n",
        "\n",
        "model = Sequential()\n",
        "\n",
        "model.add(Bidirectional(LSTM( units=512,\n",
        "         return_sequences=True),\n",
        "         input_shape=(sequence_length, nb_features),\n",
        "        ))\n",
        "model.add(Dropout(0.2))\n",
        "model.add(BatchNormalization())\n",
        "\n",
        "model.add(LSTM(\n",
        "         units=256,\n",
        "         return_sequences=True))\n",
        "\n",
        "model.add(BatchNormalization())\n",
        "model.add(LSTM(\n",
        "         units=128,\n",
        "         return_sequences=True))\n",
        "\n",
        "model.add(BatchNormalization())\n",
        "model.add(LSTM(\n",
        "          units=64,\n",
        "          return_sequences=False))\n",
        "\n",
        "model.add(BatchNormalization())\n",
        "model.add(Dense(units=32))\n",
        "model.add(Dense(units=nb_out, activation='sigmoid'))\n",
        "tensorflow.keras.optimizers.Adam(lr=0.01, beta_1=0.9, beta_2=0.999, epsilon=None, decay=0.0, amsgrad=False)\n",
        "model.compile(loss='binary_crossentropy', optimizer='adam', metrics=['accuracy'])\n",
        "\n",
        "print(model.summary())"
      ]
    },
    {
      "cell_type": "code",
      "execution_count": 52,
      "id": "44cfd8ac",
      "metadata": {
        "colab": {
          "base_uri": "https://localhost:8080/"
        },
        "id": "44cfd8ac",
        "outputId": "b14626b0-1a9b-48ef-d790-f242e8a17673"
      },
      "outputs": [
        {
          "output_type": "stream",
          "name": "stdout",
          "text": [
            "1125/1125 [==============================] - 2786s 2s/step - loss: 0.2437 - accuracy: 0.8996 - val_loss: 0.1420 - val_accuracy: 0.9507\n"
          ]
        },
        {
          "output_type": "execute_result",
          "data": {
            "text/plain": [
              "<keras.callbacks.History at 0x7f02d5975a50>"
            ]
          },
          "metadata": {},
          "execution_count": 52
        }
      ],
      "source": [
        "# training the model with train dataset\n",
        "\n",
        "train_final = np.asarray(train_final).astype(np.float32)\n",
        "train_label = np.asarray(train_label).astype(np.float32)\n",
        "test_final = np.asarray(test_final).astype(np.float32)\n",
        "test_label = np.asarray(test_label).astype(np.float32)\n",
        "model.fit(train_final,train_label,validation_split=0.2,epochs=1, batch_size=32,verbose=1)"
      ]
    },
    {
      "cell_type": "code",
      "source": [
        "# compiling our model for the test dataset\n",
        "\n",
        "tensorflow.keras.optimizers.Adam(lr=0.000001, beta_1=0.9, beta_2=0.999, epsilon=None, decay=0.0, amsgrad=False)\n",
        "model.compile(loss='binary_crossentropy', optimizer='adam', metrics=['accuracy'])\n",
        "scores = model.evaluate(test_final, test_label, verbose=1, batch_size=32)\n",
        "scores[1]"
      ],
      "metadata": {
        "colab": {
          "base_uri": "https://localhost:8080/"
        },
        "id": "ogm6ifFzLY0a",
        "outputId": "ec4c24ad-6b84-4db7-9646-2ac1383ba5ed"
      },
      "id": "ogm6ifFzLY0a",
      "execution_count": 53,
      "outputs": [
        {
          "output_type": "stream",
          "name": "stderr",
          "text": [
            "/usr/local/lib/python3.7/dist-packages/keras/optimizer_v2/adam.py:105: UserWarning: The `lr` argument is deprecated, use `learning_rate` instead.\n",
            "  super(Adam, self).__init__(name, **kwargs)\n"
          ]
        },
        {
          "output_type": "stream",
          "name": "stdout",
          "text": [
            "357/357 [==============================] - 155s 423ms/step - loss: 0.1332 - accuracy: 0.9526\n"
          ]
        },
        {
          "output_type": "execute_result",
          "data": {
            "text/plain": [
              "0.9526315927505493"
            ]
          },
          "metadata": {},
          "execution_count": 53
        }
      ]
    },
    {
      "cell_type": "code",
      "source": [
        "# evaluating accuracy and confusion matrix for our model\n",
        "\n",
        "# scores_test = model.evaluate(test_final,test_label, verbose=2)\n",
        "# print('Accurracy: {}'.format(scores_test[1]))\n",
        "\n",
        "y_pred_test = np.round_(model.predict(test_final))\n",
        "\n",
        "y_true_test = test_label\n",
        "\n",
        "print('Confusion matrix\\n- x-axis is true labels.\\n- y-axis is predicted labels')\n",
        "cm_test = confusion_matrix(y_true_test, y_pred_test)\n",
        "print(cm_test)\n",
        "\n",
        "# compute precision and recall\n",
        "\n",
        "precision_test = precision_score(y_true_test, y_pred_test)\n",
        "recall_test = recall_score(y_true_test, y_pred_test)\n",
        "f1_test = 2 * (precision_test * recall_test) / (precision_test + recall_test)\n",
        "print( 'Precision: ', precision_test, '\\n', 'Recall: ', recall_test,'\\n', 'F1-score:', f1_test )"
      ],
      "metadata": {
        "colab": {
          "base_uri": "https://localhost:8080/"
        },
        "id": "dWDTP_yALgnR",
        "outputId": "4f922589-2709-4d06-fc68-0ac8c9b17d5b"
      },
      "id": "dWDTP_yALgnR",
      "execution_count": 56,
      "outputs": [
        {
          "output_type": "stream",
          "name": "stdout",
          "text": [
            "Confusion matrix\n",
            "- x-axis is true labels.\n",
            "- y-axis is predicted labels\n",
            "[[3778  439]\n",
            " [ 101 7082]]\n",
            "Precision:  0.9416301023800027 \n",
            " Recall:  0.9859390226924684 \n",
            " F1-score: 0.9632752992383025\n"
          ]
        }
      ]
    },
    {
      "cell_type": "code",
      "source": [
        "# defining fuction to plot confuion matrix as a figure, shown below\n",
        "\n",
        "def plot_confusion_matrix(cm, classes,\n",
        "                          normalize=False,\n",
        "                          title='Confusion matrix',\n",
        "                          cmap=plt.cm.Blues):\n",
        "    \"\"\"\n",
        "    This function prints and plots the confusion matrix.\n",
        "    Normalization can be applied by setting `normalize=True`.\n",
        "    \"\"\"\n",
        "    if normalize:\n",
        "        cm = cm.astype('float') / cm.sum(axis=1)[:, np.newaxis]\n",
        "        print(\"Normalized confusion matrix\")\n",
        "    else:\n",
        "        print('Confusion matrix, without normalization')\n",
        "\n",
        "    print(cm)\n",
        "    fig=plt.figure()\n",
        "    # plt.rcParams[\"figure.figsize\"] = (10,10)\n",
        "    plt.imshow(cm, interpolation='nearest', cmap=cmap)\n",
        "    plt.title(title)\n",
        "    plt.colorbar()\n",
        "    tick_marks = np.arange(len(classes))\n",
        "    plt.xticks(tick_marks, classes, rotation=45)\n",
        "    plt.yticks(tick_marks, classes)\n",
        "\n",
        "    fmt = '.2f' if normalize else 'd'\n",
        "    thresh = cm.max() / 2.\n",
        "    for i, j in itertools.product(range(cm.shape[0]), range(cm.shape[1])):\n",
        "        plt.text(j, i, format(cm[i, j], fmt),\n",
        "                 horizontalalignment=\"center\",\n",
        "                 color=\"white\" if cm[i, j] > thresh else \"black\")\n",
        "\n",
        "    plt.tight_layout()\n",
        "    plt.ylabel('True label')\n",
        "    plt.xlabel('Predicted label')\n",
        "    fig.savefig('confusion_matrix_gender_alpha.png',bbox_inches='tight')"
      ],
      "metadata": {
        "id": "LBn5STaLLalh"
      },
      "id": "LBn5STaLLalh",
      "execution_count": 70,
      "outputs": []
    },
    {
      "cell_type": "code",
      "source": [
        "# Plot non-normalized confusion matrix\n",
        "\n",
        "class_names=['M','F']\n",
        "plt.figure()\n",
        "# plt.rcParams[\"figure.figsize\"] = (50,50)\n",
        "\n",
        "plot_confusion_matrix(cm_test, classes=class_names,\n",
        "                      title='Confusion matrix')\n",
        "plt.show()"
      ],
      "metadata": {
        "colab": {
          "base_uri": "https://localhost:8080/",
          "height": 798
        },
        "id": "JK-oGdGaLiy6",
        "outputId": "1f2b325a-263d-4a90-ab4f-431623ebdf0a"
      },
      "id": "JK-oGdGaLiy6",
      "execution_count": 71,
      "outputs": [
        {
          "output_type": "stream",
          "name": "stdout",
          "text": [
            "Confusion matrix, without normalization\n",
            "[[3778  439]\n",
            " [ 101 7082]]\n"
          ]
        },
        {
          "output_type": "display_data",
          "data": {
            "text/plain": [
              "<Figure size 720x720 with 0 Axes>"
            ]
          },
          "metadata": {}
        },
        {
          "output_type": "display_data",
          "data": {
            "text/plain": [
              "<Figure size 720x720 with 2 Axes>"
            ],
            "image/png": "[encoded data removed]"
          },
          "metadata": {
            "needs_background": "light"
          }
        }
      ]
    }
  ],
  "metadata": {
    "kernelspec": {
      "display_name": "Python 3",
      "language": "python",
      "name": "python3"
    },
    "language_info": {
      "codemirror_mode": {
        "name": "ipython",
        "version": 3
      },
      "file_extension": ".py",
      "mimetype": "text/x-python",
      "name": "python",
      "nbconvert_exporter": "python",
      "pygments_lexer": "ipython3",
      "version": "3.8.8"
    },
    "colab": {
      "name": "Gender_classification.ipynb",
      "provenance": []
    },
    "accelerator": "GPU"
  },
  "nbformat": 4,
  "nbformat_minor": 5
}