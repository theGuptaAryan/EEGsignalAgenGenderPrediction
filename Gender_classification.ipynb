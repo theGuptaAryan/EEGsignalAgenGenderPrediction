{
  "cells": [
    {
      "cell_type": "code",
      "execution_count": null,
      "id": "51e16a89",
      "metadata": {
        "id": "51e16a89"
      },
      "outputs": [],
      "source": [
        "import pandas as pd\n",
        "import numpy as np\n",
        "import matplotlib.pyplot as plt\n",
        "import os\n",
        "import csv\n",
        "import itertools\n",
        "import keras\n",
        "# Setting seed for reproducibility\n",
        "np.random.seed(1234)  \n",
        "PYTHONHASHSEED = 0\n",
        "\n",
        "from sklearn import preprocessing\n",
        "from sklearn.metrics import confusion_matrix, recall_score, precision_score\n",
        "from keras.models import Sequential,load_model,model_from_json\n",
        "from keras.layers import Dense, Dropout, LSTM,BatchNormalization,TimeDistributed,Flatten,Bidirectional"
      ]
    },
    {
      "cell_type": "code",
      "execution_count": null,
      "id": "cc27650d",
      "metadata": {
        "colab": {
          "base_uri": "https://localhost:8080/"
        },
        "id": "cc27650d",
        "outputId": "d192d78d-d557-4347-bfbf-420b35235407"
      },
      "outputs": [
        {
          "output_type": "execute_result",
          "data": {
            "text/plain": [
              "(332433, 16)"
            ]
          },
          "metadata": {},
          "execution_count": 4
        }
      ],
      "source": [
        "# reading data from csv file which has normalised data of the beta component of EEG signal\n",
        "\n",
        "df=pd.read_csv('all.csv',header=None)\n",
        "df.shape"
      ]
    },
    {
      "cell_type": "code",
      "execution_count": null,
      "id": "e55c1641",
      "metadata": {
        "colab": {
          "base_uri": "https://localhost:8080/"
        },
        "id": "e55c1641",
        "outputId": "1d52f3b5-21d2-4ae2-80e6-342ef19301f6"
      },
      "outputs": [
        {
          "output_type": "stream",
          "name": "stdout",
          "text": [
            "(170000, 16)\n",
            "[['L1_abhay_M_38_1.txt' 2.3714 80.95 ... -10.859 -0.1315 'M']\n",
            " ['L1_abhay_M_38_1.txt' 2.5153 83.811 ... -11.373 -0.19861 'M']\n",
            " ['L1_abhay_M_38_1.txt' 2.6574 86.567 ... -11.861 -0.2631 'M']\n",
            " ...\n",
            " ['L2_anuj1_M_13_8.txt' 2.3439 -10.487 ... 7.5518 6.7765 'M']\n",
            " ['L2_anuj1_M_13_8.txt' 2.7936 -11.012 ... 9.5795 7.1297 'M']\n",
            " ['L2_anuj1_M_13_8.txt' 3.1878 -11.464 ... 11.461 7.4182 'M']]\n"
          ]
        }
      ],
      "source": [
        "data=np.array(df)\n",
        "data = data[:170000,:]\n",
        "print(data.shape)\n",
        "print(data)"
      ]
    },
    {
      "cell_type": "code",
      "execution_count": null,
      "id": "354d3d27",
      "metadata": {
        "id": "354d3d27"
      },
      "outputs": [],
      "source": [
        "# pick a large window size of 25 cycles\n",
        "sequence_length = 50\n",
        "\n",
        "# function to reshape features into (samples, time steps, features) \n",
        "def gen_sequence(id_df, seq_length, seq_cols):\n",
        "    \n",
        "    data_matrix = id_df[:,seq_cols]\n",
        "    \n",
        "    num_elements = data_matrix.shape[0]\n",
        "    for start, stop in zip(range(0, num_elements-seq_length), range(seq_length, num_elements)):\n",
        "        yield data_matrix[start:stop, :]"
      ]
    },
    {
      "cell_type": "code",
      "execution_count": null,
      "id": "e1b7f79d",
      "metadata": {
        "colab": {
          "base_uri": "https://localhost:8080/"
        },
        "id": "e1b7f79d",
        "outputId": "d5bc41d3-1bb6-4b04-bd07-b73dc8038dc1"
      },
      "outputs": [
        {
          "output_type": "stream",
          "name": "stdout",
          "text": [
            "(137050, 50, 15)\n"
          ]
        },
        {
          "output_type": "execute_result",
          "data": {
            "text/plain": [
              "array([[[242.96, 615.14, 410.71, ..., 572.63, 418.78, 'F'],\n",
              "        [253.1, 638.1, 428.09, ..., 593.28, 432.79, 'F'],\n",
              "        [261.8, 657.5, 443.29, ..., 610.52, 444.24, 'F'],\n",
              "        ...,\n",
              "        [-82.405, -208.42, -146.71, ..., -252.05, -179.68, 'F'],\n",
              "        [-87.993, -218.82, -161.76, ..., -260.44, -182.45, 'F'],\n",
              "        [-93.691, -229.43, -176.99, ..., -268.81, -185.19, 'F']],\n",
              "\n",
              "       [[253.1, 638.1, 428.09, ..., 593.28, 432.79, 'F'],\n",
              "        [261.8, 657.5, 443.29, ..., 610.52, 444.24, 'F'],\n",
              "        [268.98, 673.14, 456.19, ..., 624.14, 452.98, 'F'],\n",
              "        ...,\n",
              "        [-87.993, -218.82, -161.76, ..., -260.44, -182.45, 'F'],\n",
              "        [-93.691, -229.43, -176.99, ..., -268.81, -185.19, 'F'],\n",
              "        [-99.406, -240.04, -192.22, ..., -276.96, -187.78, 'F']],\n",
              "\n",
              "       [[261.8, 657.5, 443.29, ..., 610.52, 444.24, 'F'],\n",
              "        [268.98, 673.14, 456.19, ..., 624.14, 452.98, 'F'],\n",
              "        [274.59, 684.92, 466.71, ..., 634.07, 458.96, 'F'],\n",
              "        ...,\n",
              "        [-93.691, -229.43, -176.99, ..., -268.81, -185.19, 'F'],\n",
              "        [-99.406, -240.04, -192.22, ..., -276.96, -187.78, 'F'],\n",
              "        [-105.17, -250.73, -207.46, ..., -284.96, -190.3, 'F']],\n",
              "\n",
              "       ...,\n",
              "\n",
              "       [[5.2546, 10.181, 3.2436, ..., 10.878, 2.9319, 'M'],\n",
              "        [4.7895, 10.353, 2.8434, ..., 8.4183, 2.4499, 'M'],\n",
              "        [4.2851, 10.494, 2.4239, ..., 5.8844, 1.9469, 'M'],\n",
              "        ...,\n",
              "        [0.74182, -8.5465, -2.7102, ..., 0.80738, 5.3949, 'M'],\n",
              "        [1.3085, -9.2416, -2.3439, ..., 3.1484, 5.9032, 'M'],\n",
              "        [1.8464, -9.8929, -1.9787, ..., 5.4034, 6.3661, 'M']],\n",
              "\n",
              "       [[4.7895, 10.353, 2.8434, ..., 8.4183, 2.4499, 'M'],\n",
              "        [4.2851, 10.494, 2.4239, ..., 5.8844, 1.9469, 'M'],\n",
              "        [3.7422, 10.612, 1.9881, ..., 3.306, 1.4303, 'M'],\n",
              "        ...,\n",
              "        [1.3085, -9.2416, -2.3439, ..., 3.1484, 5.9032, 'M'],\n",
              "        [1.8464, -9.8929, -1.9787, ..., 5.4034, 6.3661, 'M'],\n",
              "        [2.3439, -10.487, -1.6182, ..., 7.5518, 6.7765, 'M']],\n",
              "\n",
              "       [[4.2851, 10.494, 2.4239, ..., 5.8844, 1.9469, 'M'],\n",
              "        [3.7422, 10.612, 1.9881, ..., 3.306, 1.4303, 'M'],\n",
              "        [3.1608, 10.712, 1.538, ..., 0.70149, 0.90406, 'M'],\n",
              "        ...,\n",
              "        [1.8464, -9.8929, -1.9787, ..., 5.4034, 6.3661, 'M'],\n",
              "        [2.3439, -10.487, -1.6182, ..., 7.5518, 6.7765, 'M'],\n",
              "        [2.7936, -11.012, -1.2648, ..., 9.5795, 7.1297, 'M']]],\n",
              "      dtype=object)"
            ]
          },
          "metadata": {},
          "execution_count": 7
        }
      ],
      "source": [
        "# converting input data to a 50*14 column batch with 1 label defined for each id\n",
        "\n",
        "sequence_cols = [1,2,3,4,5,6,7,8,9,10,11,12,13,14,15]\n",
        "\n",
        "seq_gen = (list(gen_sequence(data[data[0:,0]==id], sequence_length, sequence_cols)) \n",
        "          for id in np.unique(data[0:,0]))\n",
        "\n",
        "seq_array = np.concatenate(list(seq_gen))\n",
        "print(seq_array.shape)\n",
        "seq_array"
      ]
    },
    {
      "cell_type": "code",
      "source": [
        "# shuffling seq_array for better model prediction\n",
        "from sklearn.utils import shuffle\n",
        "seq_array = shuffle(seq_array)"
      ],
      "metadata": {
        "id": "R1Bc3rHnEPPU"
      },
      "id": "R1Bc3rHnEPPU",
      "execution_count": null,
      "outputs": []
    },
    {
      "cell_type": "code",
      "execution_count": null,
      "id": "ceda5e73",
      "metadata": {
        "colab": {
          "base_uri": "https://localhost:8080/"
        },
        "id": "ceda5e73",
        "outputId": "dda29e26-80a2-419a-dd94-97c017b56423"
      },
      "outputs": [
        {
          "output_type": "stream",
          "name": "stdout",
          "text": [
            "(110000, 50, 14)\n",
            "(110000, 1)\n",
            "(27050, 50, 14)\n",
            "(27050, 1)\n"
          ]
        }
      ],
      "source": [
        "train_final=seq_array[0:110000,:,0:14]\n",
        "test_final=seq_array[110000:,:,0:14]\n",
        "from sklearn import preprocessing\n",
        "train_label=seq_array[0:110000,0,14]\n",
        "test_label=seq_array[110000:,0,14]\n",
        "lb = preprocessing.LabelBinarizer()\n",
        "train_label=lb.fit_transform(train_label)\n",
        "test_label=lb.fit_transform(test_label)\n",
        "train_label=train_label.reshape((train_label.shape[0],1))\n",
        "train_label=train_label.astype('int')\n",
        "test_label=test_label.astype('int')\n",
        "print(train_final.shape)\n",
        "print(train_label.shape)\n",
        "print(test_final.shape)\n",
        "print(test_label.shape)\n"
      ]
    },
    {
      "cell_type": "code",
      "execution_count": null,
      "id": "0f50d2fc",
      "metadata": {
        "id": "0f50d2fc"
      },
      "outputs": [],
      "source": [
        "import tensorflow\n",
        "from tensorflow.keras.models import Sequential\n",
        "from tensorflow.keras.layers import Dense\n",
        "from tensorflow.keras.layers import LSTM"
      ]
    },
    {
      "cell_type": "code",
      "execution_count": null,
      "id": "d8b7769b",
      "metadata": {
        "colab": {
          "base_uri": "https://localhost:8080/"
        },
        "id": "d8b7769b",
        "outputId": "3caa57b9-5be7-4962-9a38-865eccbf87f3"
      },
      "outputs": [
        {
          "output_type": "stream",
          "name": "stdout",
          "text": [
            "Model: \"sequential\"\n",
            "_________________________________________________________________\n",
            " Layer (type)                Output Shape              Param #   \n",
            "=================================================================\n",
            " bidirectional (Bidirectiona  (None, 50, 1024)         2158592   \n",
            " l)                                                              \n",
            "                                                                 \n",
            " dropout (Dropout)           (None, 50, 1024)          0         \n",
            "                                                                 \n",
            " batch_normalization (BatchN  (None, 50, 1024)         4096      \n",
            " ormalization)                                                   \n",
            "                                                                 \n",
            " lstm_1 (LSTM)               (None, 50, 256)           1311744   \n",
            "                                                                 \n",
            " batch_normalization_1 (Batc  (None, 50, 256)          1024      \n",
            " hNormalization)                                                 \n",
            "                                                                 \n",
            " lstm_2 (LSTM)               (None, 50, 128)           197120    \n",
            "                                                                 \n",
            " batch_normalization_2 (Batc  (None, 50, 128)          512       \n",
            " hNormalization)                                                 \n",
            "                                                                 \n",
            " lstm_3 (LSTM)               (None, 64)                49408     \n",
            "                                                                 \n",
            " batch_normalization_3 (Batc  (None, 64)               256       \n",
            " hNormalization)                                                 \n",
            "                                                                 \n",
            " dense (Dense)               (None, 32)                2080      \n",
            "                                                                 \n",
            " dense_1 (Dense)             (None, 1)                 33        \n",
            "                                                                 \n",
            "=================================================================\n",
            "Total params: 3,724,865\n",
            "Trainable params: 3,721,921\n",
            "Non-trainable params: 2,944\n",
            "_________________________________________________________________\n",
            "None\n"
          ]
        },
        {
          "output_type": "stream",
          "name": "stderr",
          "text": [
            "/usr/local/lib/python3.7/dist-packages/keras/optimizer_v2/adam.py:105: UserWarning: The `lr` argument is deprecated, use `learning_rate` instead.\n",
            "  super(Adam, self).__init__(name, **kwargs)\n"
          ]
        }
      ],
      "source": [
        "# building our model\n",
        "\n",
        "nb_features = train_final.shape[2]\n",
        "nb_out = train_label.shape[1]\n",
        "\n",
        "model = Sequential()\n",
        "\n",
        "model.add(Bidirectional(LSTM( units=512,\n",
        "         return_sequences=True),\n",
        "         input_shape=(sequence_length, nb_features),\n",
        "        ))\n",
        "model.add(Dropout(0.2))\n",
        "model.add(BatchNormalization())\n",
        "\n",
        "model.add(LSTM(\n",
        "         units=256,\n",
        "         return_sequences=True))\n",
        "\n",
        "model.add(BatchNormalization())\n",
        "model.add(LSTM(\n",
        "         units=128,\n",
        "         return_sequences=True))\n",
        "\n",
        "model.add(BatchNormalization())\n",
        "model.add(LSTM(\n",
        "          units=64,\n",
        "          return_sequences=False))\n",
        "\n",
        "model.add(BatchNormalization())\n",
        "model.add(Dense(units=32))\n",
        "model.add(Dense(units=nb_out, activation='sigmoid'))\n",
        "tensorflow.keras.optimizers.Adam(lr=0.01, beta_1=0.9, beta_2=0.999, epsilon=None, decay=0.0, amsgrad=False)\n",
        "model.compile(loss='binary_crossentropy', optimizer='adam', metrics=['accuracy'])\n",
        "\n",
        "print(model.summary())"
      ]
    },
    {
      "cell_type": "code",
      "execution_count": null,
      "id": "44cfd8ac",
      "metadata": {
        "colab": {
          "base_uri": "https://localhost:8080/"
        },
        "id": "44cfd8ac",
        "outputId": "98991af6-b25e-4fac-da8a-745cbbdc1ab5"
      },
      "outputs": [
        {
          "output_type": "stream",
          "name": "stdout",
          "text": [
            "Epoch 1/10\n",
            "2750/2750 [==============================] - 319s 110ms/step - loss: 0.3062 - accuracy: 0.8698 - val_loss: 0.1411 - val_accuracy: 0.9470\n",
            "Epoch 2/10\n",
            "2750/2750 [==============================] - 299s 109ms/step - loss: 0.1168 - accuracy: 0.9577 - val_loss: 0.0516 - val_accuracy: 0.9823\n",
            "Epoch 3/10\n",
            "2750/2750 [==============================] - 301s 109ms/step - loss: 0.0675 - accuracy: 0.9764 - val_loss: 0.0398 - val_accuracy: 0.9865\n",
            "Epoch 4/10\n",
            "2750/2750 [==============================] - 300s 109ms/step - loss: 0.0510 - accuracy: 0.9830 - val_loss: 0.0462 - val_accuracy: 0.9853\n",
            "Epoch 5/10\n",
            "2750/2750 [==============================] - 299s 109ms/step - loss: 0.0444 - accuracy: 0.9854 - val_loss: 0.0251 - val_accuracy: 0.9914\n",
            "Epoch 6/10\n",
            "2750/2750 [==============================] - 299s 109ms/step - loss: 0.0375 - accuracy: 0.9881 - val_loss: 0.0338 - val_accuracy: 0.9890\n",
            "Epoch 7/10\n",
            "2750/2750 [==============================] - 299s 109ms/step - loss: 0.0337 - accuracy: 0.9892 - val_loss: 0.0311 - val_accuracy: 0.9894\n",
            "Epoch 8/10\n",
            "2750/2750 [==============================] - 299s 109ms/step - loss: 0.0310 - accuracy: 0.9904 - val_loss: 0.0100 - val_accuracy: 0.9970\n",
            "Epoch 9/10\n",
            "2750/2750 [==============================] - 298s 109ms/step - loss: 0.0312 - accuracy: 0.9899 - val_loss: 0.0183 - val_accuracy: 0.9942\n",
            "Epoch 10/10\n",
            "2750/2750 [==============================] - 300s 109ms/step - loss: 0.0366 - accuracy: 0.9883 - val_loss: 0.0149 - val_accuracy: 0.9954\n"
          ]
        },
        {
          "output_type": "execute_result",
          "data": {
            "text/plain": [
              "<keras.callbacks.History at 0x7f828bde1d90>"
            ]
          },
          "metadata": {},
          "execution_count": 12
        }
      ],
      "source": [
        "# training the model with train dataset\n",
        "\n",
        "train_final = np.asarray(train_final).astype(np.float32)\n",
        "train_label = np.asarray(train_label).astype(np.float32)\n",
        "test_final = np.asarray(test_final).astype(np.float32)\n",
        "test_label = np.asarray(test_label).astype(np.float32)\n",
        "model.fit(train_final,train_label,validation_split=0.2,epochs=10, batch_size=32,verbose=1)"
      ]
    },
    {
      "cell_type": "code",
      "source": [
        "# compiling our model for the test dataset\n",
        "\n",
        "tensorflow.keras.optimizers.Adam(lr=0.000001, beta_1=0.9, beta_2=0.999, epsilon=None, decay=0.0, amsgrad=False)\n",
        "model.compile(loss='binary_crossentropy', optimizer='adam', metrics=['accuracy'])\n",
        "scores = model.evaluate(test_final, test_label, verbose=1, batch_size=32)\n",
        "scores[1]"
      ],
      "metadata": {
        "colab": {
          "base_uri": "https://localhost:8080/"
        },
        "id": "ogm6ifFzLY0a",
        "outputId": "687a6aa3-37f7-479a-ec25-cdcf596a5dda"
      },
      "id": "ogm6ifFzLY0a",
      "execution_count": null,
      "outputs": [
        {
          "output_type": "stream",
          "name": "stderr",
          "text": [
            "/usr/local/lib/python3.7/dist-packages/keras/optimizer_v2/adam.py:105: UserWarning: The `lr` argument is deprecated, use `learning_rate` instead.\n",
            "  super(Adam, self).__init__(name, **kwargs)\n"
          ]
        },
        {
          "output_type": "stream",
          "name": "stdout",
          "text": [
            "846/846 [==============================] - 40s 43ms/step - loss: 0.0167 - accuracy: 0.9947\n"
          ]
        },
        {
          "output_type": "execute_result",
          "data": {
            "text/plain": [
              "0.9947134852409363"
            ]
          },
          "metadata": {},
          "execution_count": 13
        }
      ]
    },
    {
      "cell_type": "code",
      "source": [
        "# evaluating accuracy and confusion matrix for our model\n",
        "\n",
        "y_pred_test = np.round_(model.predict(test_final))\n",
        "\n",
        "y_true_test = test_label\n",
        "\n",
        "print('Confusion matrix\\n- x-axis is true labels.\\n- y-axis is predicted labels')\n",
        "cm_test = confusion_matrix(y_true_test, y_pred_test)\n",
        "print(cm_test)\n",
        "\n",
        "# compute precision and recall\n",
        "\n",
        "precision_test = precision_score(y_true_test, y_pred_test)\n",
        "recall_test = recall_score(y_true_test, y_pred_test)\n",
        "f1_test = 2 * (precision_test * recall_test) / (precision_test + recall_test)\n",
        "print( 'Precision: ', precision_test, '\\n', 'Recall: ', recall_test,'\\n', 'F1-score:', f1_test )"
      ],
      "metadata": {
        "colab": {
          "base_uri": "https://localhost:8080/"
        },
        "id": "dWDTP_yALgnR",
        "outputId": "5bc2d622-1b64-4248-94f6-46e7e89847f5"
      },
      "id": "dWDTP_yALgnR",
      "execution_count": null,
      "outputs": [
        {
          "output_type": "stream",
          "name": "stdout",
          "text": [
            "Confusion matrix\n",
            "- x-axis is true labels.\n",
            "- y-axis is predicted labels\n",
            "[[ 8542    67]\n",
            " [   76 18365]]\n",
            "Precision:  0.9963650173611112 \n",
            " Recall:  0.9958787484409739 \n",
            " F1-score: 0.9961218235565319\n"
          ]
        }
      ]
    },
    {
      "cell_type": "code",
      "source": [
        "scores_test = model.evaluate(test_final,test_label, verbose=2)\n",
        "print('Accurracy: {}'.format(scores_test[1]))"
      ],
      "metadata": {
        "colab": {
          "base_uri": "https://localhost:8080/"
        },
        "id": "D9hiF2lvqjPO",
        "outputId": "331b8eb3-55ca-44b9-abfd-591c40ceba3c"
      },
      "id": "D9hiF2lvqjPO",
      "execution_count": null,
      "outputs": [
        {
          "output_type": "stream",
          "name": "stdout",
          "text": [
            "846/846 - 29s - loss: 0.0167 - accuracy: 0.9947 - 29s/epoch - 34ms/step\n",
            "Accurracy: 0.9947134852409363\n"
          ]
        }
      ]
    },
    {
      "cell_type": "code",
      "source": [
        "# defining fuction to plot confuion matrix as a figure, shown below\n",
        "\n",
        "def plot_confusion_matrix(cm, classes,\n",
        "                          normalize=False,\n",
        "                          title='Confusion matrix',\n",
        "                          cmap=plt.cm.Blues):\n",
        "    \"\"\"\n",
        "    This function prints and plots the confusion matrix.\n",
        "    Normalization can be applied by setting `normalize=True`.\n",
        "    \"\"\"\n",
        "    if normalize:\n",
        "        cm = cm.astype('float') / cm.sum(axis=1)[:, np.newaxis]\n",
        "        print(\"Normalized confusion matrix\")\n",
        "    else:\n",
        "        print('Confusion matrix, without normalization')\n",
        "\n",
        "    print(cm)\n",
        "    fig=plt.figure()\n",
        "    # plt.rcParams[\"figure.figsize\"] = (10,10)\n",
        "    plt.imshow(cm, interpolation='nearest', cmap=cmap)\n",
        "    plt.title(title)\n",
        "    plt.colorbar()\n",
        "    tick_marks = np.arange(len(classes))\n",
        "    plt.xticks(tick_marks, classes, rotation=45)\n",
        "    plt.yticks(tick_marks, classes)\n",
        "\n",
        "    fmt = '.2f' if normalize else 'd'\n",
        "    thresh = cm.max() / 2.\n",
        "    for i, j in itertools.product(range(cm.shape[0]), range(cm.shape[1])):\n",
        "        plt.text(j, i, format(cm[i, j], fmt),\n",
        "                 horizontalalignment=\"center\",\n",
        "                 color=\"white\" if cm[i, j] > thresh else \"black\")\n",
        "\n",
        "    plt.tight_layout()\n",
        "    plt.ylabel('True label')\n",
        "    plt.xlabel('Predicted label')\n",
        "    fig.savefig('confusion_matrix_gender_alpha.png',bbox_inches='tight')"
      ],
      "metadata": {
        "id": "LBn5STaLLalh"
      },
      "id": "LBn5STaLLalh",
      "execution_count": null,
      "outputs": []
    },
    {
      "cell_type": "code",
      "source": [
        "# Plot non-normalized confusion matrix\n",
        "\n",
        "class_names=['M','F']\n",
        "plt.figure()\n",
        "plt.rcParams[\"figure.figsize\"] = (6,6)\n",
        "\n",
        "plot_confusion_matrix(cm_test, classes=class_names,\n",
        "                      title='Confusion matrix')\n",
        "plt.show()"
      ],
      "metadata": {
        "colab": {
          "base_uri": "https://localhost:8080/",
          "height": 510
        },
        "id": "JK-oGdGaLiy6",
        "outputId": "41abc199-5d00-43d2-c48b-b22deb7d1fff"
      },
      "id": "JK-oGdGaLiy6",
      "execution_count": null,
      "outputs": [
        {
          "output_type": "stream",
          "name": "stdout",
          "text": [
            "Confusion matrix, without normalization\n",
            "[[ 8542    67]\n",
            " [   76 18365]]\n"
          ]
        },
        {
          "output_type": "display_data",
          "data": {
            "text/plain": [
              "<Figure size 504x504 with 0 Axes>"
            ]
          },
          "metadata": {}
        },
        {
          "output_type": "display_data",
          "data": {
            "text/plain": [
              "<Figure size 432x432 with 2 Axes>"
            ],
            "image/png": "[encoded data removed]"
          },
          "metadata": {
            "needs_background": "light"
          }
        }
      ]
    }
  ],
  "metadata": {
    "kernelspec": {
      "display_name": "Python 3",
      "language": "python",
      "name": "python3"
    },
    "language_info": {
      "codemirror_mode": {
        "name": "ipython",
        "version": 3
      },
      "file_extension": ".py",
      "mimetype": "text/x-python",
      "name": "python",
      "nbconvert_exporter": "python",
      "pygments_lexer": "ipython3",
      "version": "3.8.8"
    },
    "colab": {
      "name": "Gender_classification.ipynb",
      "provenance": []
    },
    "accelerator": "GPU"
  },
  "nbformat": 4,
  "nbformat_minor": 5
}